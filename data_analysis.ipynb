{
 "cells": [
  {
   "cell_type": "code",
   "execution_count": 8,
   "metadata": {},
   "outputs": [],
   "source": [
    "options(warn=-1)\n",
    "suppressWarnings({\n",
    "    libs <- c(\"tidyverse\",\"gridExtra\")\n",
    "load.libs <- function(x){\n",
    "  for(i in x){\n",
    "    if(!require(i,character.only = TRUE )){\n",
    "      install.packages(i,dependencies = TRUE )\n",
    "      library(i,character.only = TRUE )\n",
    "    }\n",
    "  }\n",
    "}\n",
    "load.libs(libs)\n",
    "})"
   ]
  },
  {
   "cell_type": "markdown",
   "metadata": {},
   "source": [
    "### 2016 Survey Data"
   ]
  },
  {
   "cell_type": "code",
   "execution_count": 2,
   "metadata": {},
   "outputs": [],
   "source": [
    "data_unstructured<-read.csv(\"data/data2016_coded.csv\")"
   ]
  },
  {
   "cell_type": "code",
   "execution_count": 3,
   "metadata": {},
   "outputs": [
    {
     "data": {
      "text/html": [
       "<table>\n",
       "<thead><tr><th scope=col>Q1.a</th><th scope=col>Q1.b</th><th scope=col>Q1.c</th><th scope=col>Q1.d</th><th scope=col>Q1.e</th><th scope=col>Q1.f</th><th scope=col>Q1.g</th><th scope=col>Q1.h</th><th scope=col>Q1.1</th><th scope=col>Q1.2</th><th scope=col>...</th><th scope=col>Q3.h</th><th scope=col>Q3.i</th><th scope=col>Q3.j</th><th scope=col>Q3.k</th><th scope=col>Q3.l</th><th scope=col>Q3.m</th><th scope=col>Q3.n</th><th scope=col>Q3.o</th><th scope=col>On_Campus</th><th scope=col>Upper_Classman</th></tr></thead>\n",
       "<tbody>\n",
       "\t<tr><td>7  </td><td>7  </td><td>7  </td><td>1  </td><td>3  </td><td>1  </td><td>1  </td><td>5  </td><td>3  </td><td>4  </td><td>...</td><td>4  </td><td>0  </td><td>0  </td><td>0  </td><td>0  </td><td>0  </td><td>3  </td><td>2  </td><td>0  </td><td>1  </td></tr>\n",
       "\t<tr><td>6  </td><td>3  </td><td>5  </td><td>5  </td><td>6  </td><td>1  </td><td>3  </td><td>6  </td><td>4  </td><td>4  </td><td>...</td><td>5  </td><td>5  </td><td>4  </td><td>5  </td><td>5  </td><td>5  </td><td>4  </td><td>3  </td><td>0  </td><td>1  </td></tr>\n",
       "\t<tr><td>5  </td><td>5  </td><td>5  </td><td>5  </td><td>3  </td><td>1  </td><td>1  </td><td>2  </td><td>1  </td><td>3  </td><td>...</td><td>3  </td><td>4  </td><td>5  </td><td>5  </td><td>3  </td><td>2  </td><td>3  </td><td>3  </td><td>0  </td><td>1  </td></tr>\n",
       "\t<tr><td>6  </td><td>5  </td><td>7  </td><td>7  </td><td>7  </td><td>3  </td><td>3  </td><td>4  </td><td>5  </td><td>5  </td><td>...</td><td>0  </td><td>5  </td><td>0  </td><td>0  </td><td>0  </td><td>5  </td><td>3  </td><td>5  </td><td>0  </td><td>1  </td></tr>\n",
       "\t<tr><td>7  </td><td>5  </td><td>6  </td><td>6  </td><td>7  </td><td>3  </td><td>1  </td><td>5  </td><td>3  </td><td>3  </td><td>...</td><td>5  </td><td>5  </td><td>5  </td><td>5  </td><td>5  </td><td>5  </td><td>2  </td><td>3  </td><td>0  </td><td>1  </td></tr>\n",
       "\t<tr><td>5  </td><td>4  </td><td>5  </td><td>5  </td><td>6  </td><td>1  </td><td>1  </td><td>3  </td><td>3  </td><td>5  </td><td>...</td><td>5  </td><td>4  </td><td>0  </td><td>4  </td><td>3  </td><td>4  </td><td>4  </td><td>1  </td><td>1  </td><td>1  </td></tr>\n",
       "</tbody>\n",
       "</table>\n"
      ],
      "text/latex": [
       "\\begin{tabular}{r|lllllllllllllllllllllllllllllllll}\n",
       " Q1.a & Q1.b & Q1.c & Q1.d & Q1.e & Q1.f & Q1.g & Q1.h & Q1.1 & Q1.2 & ... & Q3.h & Q3.i & Q3.j & Q3.k & Q3.l & Q3.m & Q3.n & Q3.o & On\\_Campus & Upper\\_Classman\\\\\n",
       "\\hline\n",
       "\t 7   & 7   & 7   & 1   & 3   & 1   & 1   & 5   & 3   & 4   & ... & 4   & 0   & 0   & 0   & 0   & 0   & 3   & 2   & 0   & 1  \\\\\n",
       "\t 6   & 3   & 5   & 5   & 6   & 1   & 3   & 6   & 4   & 4   & ... & 5   & 5   & 4   & 5   & 5   & 5   & 4   & 3   & 0   & 1  \\\\\n",
       "\t 5   & 5   & 5   & 5   & 3   & 1   & 1   & 2   & 1   & 3   & ... & 3   & 4   & 5   & 5   & 3   & 2   & 3   & 3   & 0   & 1  \\\\\n",
       "\t 6   & 5   & 7   & 7   & 7   & 3   & 3   & 4   & 5   & 5   & ... & 0   & 5   & 0   & 0   & 0   & 5   & 3   & 5   & 0   & 1  \\\\\n",
       "\t 7   & 5   & 6   & 6   & 7   & 3   & 1   & 5   & 3   & 3   & ... & 5   & 5   & 5   & 5   & 5   & 5   & 2   & 3   & 0   & 1  \\\\\n",
       "\t 5   & 4   & 5   & 5   & 6   & 1   & 1   & 3   & 3   & 5   & ... & 5   & 4   & 0   & 4   & 3   & 4   & 4   & 1   & 1   & 1  \\\\\n",
       "\\end{tabular}\n"
      ],
      "text/markdown": [
       "\n",
       "| Q1.a | Q1.b | Q1.c | Q1.d | Q1.e | Q1.f | Q1.g | Q1.h | Q1.1 | Q1.2 | ... | Q3.h | Q3.i | Q3.j | Q3.k | Q3.l | Q3.m | Q3.n | Q3.o | On_Campus | Upper_Classman |\n",
       "|---|---|---|---|---|---|---|---|---|---|---|---|---|---|---|---|---|---|---|---|---|\n",
       "| 7   | 7   | 7   | 1   | 3   | 1   | 1   | 5   | 3   | 4   | ... | 4   | 0   | 0   | 0   | 0   | 0   | 3   | 2   | 0   | 1   |\n",
       "| 6   | 3   | 5   | 5   | 6   | 1   | 3   | 6   | 4   | 4   | ... | 5   | 5   | 4   | 5   | 5   | 5   | 4   | 3   | 0   | 1   |\n",
       "| 5   | 5   | 5   | 5   | 3   | 1   | 1   | 2   | 1   | 3   | ... | 3   | 4   | 5   | 5   | 3   | 2   | 3   | 3   | 0   | 1   |\n",
       "| 6   | 5   | 7   | 7   | 7   | 3   | 3   | 4   | 5   | 5   | ... | 0   | 5   | 0   | 0   | 0   | 5   | 3   | 5   | 0   | 1   |\n",
       "| 7   | 5   | 6   | 6   | 7   | 3   | 1   | 5   | 3   | 3   | ... | 5   | 5   | 5   | 5   | 5   | 5   | 2   | 3   | 0   | 1   |\n",
       "| 5   | 4   | 5   | 5   | 6   | 1   | 1   | 3   | 3   | 5   | ... | 5   | 4   | 0   | 4   | 3   | 4   | 4   | 1   | 1   | 1   |\n",
       "\n"
      ],
      "text/plain": [
       "  Q1.a Q1.b Q1.c Q1.d Q1.e Q1.f Q1.g Q1.h Q1.1 Q1.2 ... Q3.h Q3.i Q3.j Q3.k\n",
       "1 7    7    7    1    3    1    1    5    3    4    ... 4    0    0    0   \n",
       "2 6    3    5    5    6    1    3    6    4    4    ... 5    5    4    5   \n",
       "3 5    5    5    5    3    1    1    2    1    3    ... 3    4    5    5   \n",
       "4 6    5    7    7    7    3    3    4    5    5    ... 0    5    0    0   \n",
       "5 7    5    6    6    7    3    1    5    3    3    ... 5    5    5    5   \n",
       "6 5    4    5    5    6    1    1    3    3    5    ... 5    4    0    4   \n",
       "  Q3.l Q3.m Q3.n Q3.o On_Campus Upper_Classman\n",
       "1 0    0    3    2    0         1             \n",
       "2 5    5    4    3    0         1             \n",
       "3 3    2    3    3    0         1             \n",
       "4 0    5    3    5    0         1             \n",
       "5 5    5    2    3    0         1             \n",
       "6 3    4    4    1    1         1             "
      ]
     },
     "metadata": {},
     "output_type": "display_data"
    }
   ],
   "source": [
    "relevant_info<-c(\"Q1.a\", \"Q1.b\", \"Q1.c\", \"Q1.d\", \"Q1.e\", \"Q1.f\", \"Q1.g\", \"Q1.h\", \n",
    "                 \"Q1.1\", \"Q1.2\", \"Q2.a\", \"Q2.b\", \"Q2.c\", \"Q2.d\", \"Q2.e\", \"Q2.f\", \n",
    "                 \"Q3.a\", \"Q3.b\", \"Q3.c\", \"Q3.d\", \"Q3.e\", \"Q3.f\", \"Q3.g\", \"Q3.h\", \n",
    "                 \"Q3.i\", \"Q3.j\", \"Q3.k\", \"Q3.l\", \"Q3.m\", \"Q3.n\", \"Q3.o\", \n",
    "                 \"DormBuilding\", \"Level\")\n",
    "\n",
    "data<-data_unstructured%>%\n",
    "    filter(Level %in% c(\"Freshman\", \"Sophomore\", \"Junior\", \"Senior\"))%>% #7\n",
    "    select(all_of(relevant_info))%>%\n",
    "    mutate(On_Campus = as.factor(ifelse(DormBuilding == \"No Dorm\", 0, 1)),\n",
    "           Level = as.factor(Level),\n",
    "           Upper_Classman = as.factor(ifelse(Level %in% c(\"Freshman\", \"Sophomore\"), 0, 1)))%>%\n",
    "    select(-c(\"DormBuilding\", \"Level\"))\n",
    "\n",
    "data<-data[complete.cases(data),]\n",
    "head(data)"
   ]
  },
  {
   "cell_type": "markdown",
   "metadata": {},
   "source": [
    "516 undergraduate students were surveyed in OSI's 2016 Sustainability Literacy Assessment, 466 of whom remain for analysis following preprocessing. The survey collected information on students’ sustainability-related behaviors and values, as well as on their overall knowledge of sustainability issues. Students rated 10 sustainability-related behaviors on a 7-point scale (Q1.a -- Q1.h, Q1.1, Q1.2) based on how often they act in such ways, with 1 being “never” and 7 being “always.” Similarly, their personal values regarding sustainability are captured by how much they align with six statements on a 7-point scale (Q2.a -- Q2.f). The specific questions of the survey can be found in Appendix A. In that regard, students also provided their class year and place of residence. Underclassmen, namely first and second-year students, are required to live on-campus barring special circumstances. As such, only two underclassmen in the data live off-campus as shown in Table 1. The number of underclassmen and upperclassmen is approximately uniform, albeit 82\\% of all respondents live on-campus. \n",
    "\n",
    "[table 1]\n",
    "\n",
    "Having spent more time at Emory compared to underclassman, upperclassmen have had more opportunities to engage in sustainability initiatives on campus—regardless of their place of residence. In this context, upperclassmen should report higher increases in sustainable behavior (Q1.1) and awareness of social justice (Q1.2) since beginning their studies. The average ratings of Q1.1 and Q1.2 among the two groups are found in Table 2, along with corresponding two-sample t-tests to evaluate their statistical significance at the 0.05 significance level. Among underclassmen, the mean Q1.1 and Q1.2 ratings are 3.16 and 3.76, respectively. Upperclassmen only reported marginally higher averages for both Q1.1 and Q1.2, contrary to expectations. The difference in overall sustainable behavior and social justice awareness between underclassmen and upperclassmen is not statistically significant. Nonetheless, their levels of sustainability are not necessarily equal: upperclassmen who live off-campus forego certain sustainable behaviors because they have less access to campus resources."
   ]
  },
  {
   "cell_type": "code",
   "execution_count": 4,
   "metadata": {},
   "outputs": [
    {
     "data": {
      "text/html": [
       "<table>\n",
       "<thead><tr><th scope=col>Upper_Classman</th><th scope=col>mean_Q1.1</th><th scope=col>mean_Q1.2</th></tr></thead>\n",
       "<tbody>\n",
       "\t<tr><td>0       </td><td>3.155172</td><td>3.762931</td></tr>\n",
       "\t<tr><td>1       </td><td>3.252137</td><td>3.837607</td></tr>\n",
       "</tbody>\n",
       "</table>\n"
      ],
      "text/latex": [
       "\\begin{tabular}{r|lll}\n",
       " Upper\\_Classman & mean\\_Q1.1 & mean\\_Q1.2\\\\\n",
       "\\hline\n",
       "\t 0        & 3.155172 & 3.762931\\\\\n",
       "\t 1        & 3.252137 & 3.837607\\\\\n",
       "\\end{tabular}\n"
      ],
      "text/markdown": [
       "\n",
       "| Upper_Classman | mean_Q1.1 | mean_Q1.2 |\n",
       "|---|---|---|\n",
       "| 0        | 3.155172 | 3.762931 |\n",
       "| 1        | 3.252137 | 3.837607 |\n",
       "\n"
      ],
      "text/plain": [
       "  Upper_Classman mean_Q1.1 mean_Q1.2\n",
       "1 0              3.155172  3.762931 \n",
       "2 1              3.252137  3.837607 "
      ]
     },
     "metadata": {},
     "output_type": "display_data"
    }
   ],
   "source": [
    "#table 2\n",
    "data%>%\n",
    "    group_by(Upper_Classman)%>%\n",
    "    summarise(mean_Q1.1 = mean(Q1.1),\n",
    "              mean_Q1.2 = mean(Q1.2))"
   ]
  },
  {
   "cell_type": "code",
   "execution_count": 19,
   "metadata": {},
   "outputs": [
    {
     "data": {
      "text/plain": [
       "\n",
       "\tWelch Two Sample t-test\n",
       "\n",
       "data:  Q1.1 by Upper_Classman\n",
       "t = -0.94591, df = 459.47, p-value = 0.3447\n",
       "alternative hypothesis: true difference in means is not equal to 0\n",
       "95 percent confidence interval:\n",
       " -0.2984081  0.1044795\n",
       "sample estimates:\n",
       "mean in group 0 mean in group 1 \n",
       "       3.155172        3.252137 \n"
      ]
     },
     "metadata": {},
     "output_type": "display_data"
    },
    {
     "data": {
      "text/plain": [
       "\n",
       "\tWelch Two Sample t-test\n",
       "\n",
       "data:  Q1.2 by Upper_Classman\n",
       "t = -0.69426, df = 461.94, p-value = 0.4879\n",
       "alternative hypothesis: true difference in means is not equal to 0\n",
       "95 percent confidence interval:\n",
       " -0.2860457  0.1366941\n",
       "sample estimates:\n",
       "mean in group 0 mean in group 1 \n",
       "       3.762931        3.837607 \n"
      ]
     },
     "metadata": {},
     "output_type": "display_data"
    }
   ],
   "source": [
    "t.test(Q1.1 ~ Upper_Classman, data)\n",
    "t.test(Q1.2 ~ Upper_Classman, data)"
   ]
  },
  {
   "cell_type": "markdown",
   "metadata": {},
   "source": [
    "Consider the use of lower-impact transportation among upperclassmen based on whether they live on-campus or off-campus. "
   ]
  },
  {
   "cell_type": "code",
   "execution_count": 14,
   "metadata": {},
   "outputs": [
    {
     "data": {
      "text/html": [
       "<table>\n",
       "<thead><tr><th scope=col>On_Campus</th><th scope=col>mean_Q1.d</th><th scope=col>sd_Q1.d</th><th scope=col>count</th></tr></thead>\n",
       "<tbody>\n",
       "\t<tr><td>0       </td><td>4.205128</td><td>1.804460</td><td> 78     </td></tr>\n",
       "\t<tr><td>1       </td><td>4.782051</td><td>1.682145</td><td>156     </td></tr>\n",
       "</tbody>\n",
       "</table>\n"
      ],
      "text/latex": [
       "\\begin{tabular}{r|llll}\n",
       " On\\_Campus & mean\\_Q1.d & sd\\_Q1.d & count\\\\\n",
       "\\hline\n",
       "\t 0        & 4.205128 & 1.804460 &  78     \\\\\n",
       "\t 1        & 4.782051 & 1.682145 & 156     \\\\\n",
       "\\end{tabular}\n"
      ],
      "text/markdown": [
       "\n",
       "| On_Campus | mean_Q1.d | sd_Q1.d | count |\n",
       "|---|---|---|---|\n",
       "| 0        | 4.205128 | 1.804460 |  78      |\n",
       "| 1        | 4.782051 | 1.682145 | 156      |\n",
       "\n"
      ],
      "text/plain": [
       "  On_Campus mean_Q1.d sd_Q1.d  count\n",
       "1 0         4.205128  1.804460  78  \n",
       "2 1         4.782051  1.682145 156  "
      ]
     },
     "metadata": {},
     "output_type": "display_data"
    }
   ],
   "source": [
    "#table 3\n",
    "data%>%\n",
    "    filter(Upper_Classman == 1)%>%\n",
    "    group_by(On_Campus)%>%\n",
    "    summarise(mean_Q1.d = mean(Q1.d),\n",
    "              sd_Q1.d = sd(Q1.d),\n",
    "              count = n())"
   ]
  },
  {
   "cell_type": "code",
   "execution_count": 17,
   "metadata": {
    "scrolled": true
   },
   "outputs": [
    {
     "data": {
      "text/plain": [
       "\n",
       "\tWelch Two Sample t-test\n",
       "\n",
       "data:  Q1.d by On_Campus\n",
       "t = -2.3576, df = 144.87, p-value = 0.01973\n",
       "alternative hypothesis: true difference in means is not equal to 0\n",
       "95 percent confidence interval:\n",
       " -1.06058680 -0.09325935\n",
       "sample estimates:\n",
       "mean in group 0 mean in group 1 \n",
       "       4.205128        4.782051 \n"
      ]
     },
     "metadata": {},
     "output_type": "display_data"
    }
   ],
   "source": [
    "t.test(Q1.d ~ On_Campus, data[data$Upper_Classman == 1,])"
   ]
  }
 ],
 "metadata": {
  "kernelspec": {
   "display_name": "R",
   "language": "R",
   "name": "ir"
  },
  "language_info": {
   "codemirror_mode": "r",
   "file_extension": ".r",
   "mimetype": "text/x-r-source",
   "name": "R",
   "pygments_lexer": "r",
   "version": "3.6.1"
  }
 },
 "nbformat": 4,
 "nbformat_minor": 4
}
