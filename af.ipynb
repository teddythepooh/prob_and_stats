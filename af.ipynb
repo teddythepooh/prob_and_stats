{
 "cells": [
  {
   "cell_type": "code",
   "execution_count": 5,
   "metadata": {},
   "outputs": [
    {
     "data": {
      "image/png": "[encoded data removed]",
      "text/plain": [
       "plot without title"
      ]
     },
     "metadata": {},
     "output_type": "display_data"
    }
   ],
   "source": [
    "options(repr.plot.height = 3, repr.plot.width = 7)\n",
    "question_three_labels<-c(\"Never\", \"Rarely\", \"Occasionally\", \"Usually\", \"Always\")\n",
    "data%>%\n",
    "    filter(Level != 0)%>%\n",
    "    droplevels()%>%\n",
    "    mutate(Q3d = factor(Q3d, levels = c(1, 2, 3, 4, 5),\n",
    "                       labels = question_three_labels),\n",
    "           Level = as.factor(Level))%>%\n",
    "    ggplot()+\n",
    "    geom_bar(aes(x = Q3d, fill = Level), color = \"black\", stat = \"count\")+\n",
    "    facet_wrap(~Residence)+\n",
    "    scale_fill_manual(values = c(\"blue\", \"#E7B800\", \"#FC4E07\", \"green\"))+\n",
    "    labs(title = \"Question: How often do you choose lower-impact transportation?\",\n",
    "         x = \"\",\n",
    "         y = \"Count\",\n",
    "         fill = \"Year\")+\n",
    "    theme_bw()+\n",
    "    theme(plot.title = element_text(size = 12, hjust = 0.5, face = \"bold\"),\n",
    "          axis.title.y = element_text(size = 10, face = \"bold\"),\n",
    "          legend.position = c(0.05,0.65),\n",
    "          legend.background = element_blank(),\n",
    "          legend.title = element_text(size = 10, face = \"bold\"))"
   ]
  }
 ],
 "metadata": {
  "kernelspec": {
   "display_name": "R",
   "language": "R",
   "name": "ir"
  },
  "language_info": {
   "codemirror_mode": "r",
   "file_extension": ".r",
   "mimetype": "text/x-r-source",
   "name": "R",
   "pygments_lexer": "r",
   "version": "3.6.1"
  }
 },
 "nbformat": 4,
 "nbformat_minor": 4
}
