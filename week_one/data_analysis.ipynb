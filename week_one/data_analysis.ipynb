{
 "cells": [
  {
   "cell_type": "code",
   "execution_count": 2,
   "metadata": {},
   "outputs": [],
   "source": [
    "import os\n",
    "import pandas as pd\n",
    "import numpy as np\n",
    "import re"
   ]
  },
  {
   "cell_type": "code",
   "execution_count": 12,
   "metadata": {},
   "outputs": [
    {
     "data": {
      "text/plain": [
       "['data2015_coded.csv',\n",
       " 'data2016_coded.csv',\n",
       " 'data2017_ coded.csv',\n",
       " 'data2018_coded.csv']"
      ]
     },
     "execution_count": 12,
     "metadata": {},
     "output_type": "execute_result"
    }
   ],
   "source": [
    "os.chdir(\"..\\data\")\n",
    "os.listdir()"
   ]
  },
  {
   "cell_type": "code",
   "execution_count": 14,
   "metadata": {},
   "outputs": [
    {
     "data": {
      "text/plain": [
       "Index(['ResponseID', 'Career', 'ProgramDescr', 'Major', 'DormFlag', 'Q1.a',\n",
       "       'Q1.b', 'Q1.c', 'Q1.d', 'Q1.e', 'Q1.f', 'Q1.g', 'Q2.a', 'Q2.b', 'Q2.c',\n",
       "       'Q2.d', 'Q2.e', 'Q2.f', 'Q2.g', 'Q2.h', 'Q2.i', 'Q3.a', 'Q3.b', 'Q3.c',\n",
       "       'Q3.d', 'Q3.e', 'Q3.f', 'Q3.g', 'Q3.h', 'Q4.1.a', 'Q4.1.b', 'Q4.1.c',\n",
       "       'Q4.1.d', 'Q4.2', 'Q4.3', 'Q4.4', 'Q4.5.a', 'Q4.5.b', 'Q4.5.c',\n",
       "       'Q4.5.d', 'Q5.1', 'Q5.2', 'Q5.3', 'Q5.4', 'Q5.5'],\n",
       "      dtype='object')"
      ]
     },
     "execution_count": 14,
     "metadata": {},
     "output_type": "execute_result"
    }
   ],
   "source": [
    "data_2015 = pd.read_csv(\"data2015_coded.csv\")\n",
    "data_2015.columns"
   ]
  }
 ],
 "metadata": {
  "kernelspec": {
   "display_name": "Python 3",
   "language": "python",
   "name": "python3"
  },
  "language_info": {
   "codemirror_mode": {
    "name": "ipython",
    "version": 3
   },
   "file_extension": ".py",
   "mimetype": "text/x-python",
   "name": "python",
   "nbconvert_exporter": "python",
   "pygments_lexer": "ipython3",
   "version": "3.7.6"
  }
 },
 "nbformat": 4,
 "nbformat_minor": 4
}
